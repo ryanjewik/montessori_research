{
 "cells": [
  {
   "cell_type": "code",
   "execution_count": 2,
   "metadata": {},
   "outputs": [
    {
     "name": "stderr",
     "output_type": "stream",
     "text": [
      "C:\\Users\\Ryan Jewik\\AppData\\Roaming\\Python\\Python39\\site-packages\\pandas\\core\\computation\\expressions.py:21: UserWarning: Pandas requires version '2.8.4' or newer of 'numexpr' (version '2.8.3' currently installed).\n",
      "  from pandas.core.computation.check import NUMEXPR_INSTALLED\n",
      "C:\\Users\\Ryan Jewik\\AppData\\Roaming\\Python\\Python39\\site-packages\\pandas\\core\\arrays\\masked.py:60: UserWarning: Pandas requires version '1.3.6' or newer of 'bottleneck' (version '1.3.5' currently installed).\n",
      "  from pandas.core import (\n"
     ]
    }
   ],
   "source": [
    "import pandas as pd\n",
    "import numpy as np"
   ]
  },
  {
   "cell_type": "code",
   "execution_count": 3,
   "metadata": {},
   "outputs": [],
   "source": [
    "ios1 = pd.read_csv(\"final/o-khan-academy-kids.csv\")\n",
    "ios2 = pd.read_csv(\"final/o-toddler-games-for-2-year-olds.csv\")\n",
    "ios3 = pd.read_csv(\"final/o-montessori-preschool-kids-3-7.csv\")\n",
    "ios4 = pd.read_csv(\"final/o-kids-math-games.csv\")\n",
    "ios5 = pd.read_csv(\"final/o-abc-kids-tracing-phonics.csv\")\n",
    "ios6 = pd.read_csv(\"final/o-pok-pok-montessori-preschool.csv\")\n",
    "ios7 = pd.read_csv(\"final/o-preschool-games-for-kids.csv\")"
   ]
  },
  {
   "cell_type": "code",
   "execution_count": 29,
   "metadata": {},
   "outputs": [],
   "source": [
    "ios3['IOS'] = 1\n",
    "ios4['IOS'] = 1\n",
    "ios5['IOS'] = 1\n",
    "ios6['IOS'] = 1\n",
    "ios7['IOS'] = 1\n",
    "ios3['Name'] = \"montessori-preschool-kids-3-7\"\n",
    "ios4['Name'] = \"kids-math-games\"\n",
    "ios5['Name'] = \"abc-kids-tracing-phonics\"\n",
    "ios6['Name'] = \"pok-pok-montessori-preschool\"\n",
    "ios7['Name'] = \"preschool-games-for-kids\""
   ]
  },
  {
   "cell_type": "code",
   "execution_count": 15,
   "metadata": {},
   "outputs": [],
   "source": [
    "and1 = pd.read_csv(\"final/g-khan-academy-kids.csv\")\n",
    "and2 = pd.read_csv(\"final/g-toddler-games-for-2-year-olds.csv\")\n",
    "and3 = pd.read_csv(\"final/g-montessori-preschool-kids-3-7.csv\")\n",
    "and4 = pd.read_csv(\"final/g-kids-math-games.csv\")\n",
    "and5 = pd.read_csv(\"final/g-abc-kids-tracing-phonics.csv\")\n",
    "and6 = pd.read_csv(\"final/g-pok-pok-montessori-preschool.csv\")\n",
    "and7 = pd.read_csv(\"final/g-preschool-games-for-kids.csv\")"
   ]
  },
  {
   "cell_type": "code",
   "execution_count": 18,
   "metadata": {},
   "outputs": [],
   "source": [
    "and1 = and1.drop(columns = [\"Unnamed: 0\"])\n",
    "and2 = and2.drop(columns = [\"Unnamed: 0\"])\n",
    "and5 = and5.drop(columns = [\"Unnamed: 0\"])"
   ]
  },
  {
   "cell_type": "code",
   "execution_count": 32,
   "metadata": {},
   "outputs": [],
   "source": [
    "and1['IOS'] = 0\n",
    "and2['IOS'] = 0\n",
    "and3['IOS'] = 0\n",
    "and4['IOS'] = 0\n",
    "and5['IOS'] = 0\n",
    "and6['IOS'] = 0\n",
    "and7['IOS'] = 0\n",
    "and1['Name'] = \"khan-academy-kids\"\n",
    "and2['Name'] = \"toddler-games-for-2-year-olds\"\n",
    "and3['Name'] = \"montessori-preschool-kids-3-7\"\n",
    "and4['Name'] = \"kids-math-games\"\n",
    "and5['Name'] = \"abc-kids-tracing-phonics\"\n",
    "and6['Name'] = \"pok-pok-montessori-preschool\"\n",
    "and7['Name'] = \"preschool-games-for-kids\""
   ]
  },
  {
   "cell_type": "code",
   "execution_count": 36,
   "metadata": {},
   "outputs": [],
   "source": [
    "and1.to_csv(\"final/g-khan-academy-kids.csv\", index = False)\n",
    "and2.to_csv(\"final/g-toddler-games-for-2-year-olds.csv\", index = False)\n",
    "and3.to_csv(\"final/g-montessori-preschool-kids-3-7.csv\", index = False)\n",
    "and4.to_csv(\"final/g-kids-math-games.csv\", index = False)\n",
    "and5.to_csv(\"final/g-abc-kids-tracing-phonics.csv\", index = False)\n",
    "and6.to_csv(\"final/g-pok-pok-montessori-preschool.csv\", index = False)\n",
    "and7.to_csv(\"final/g-preschool-games-for-kids.csv\", index = False)\n",
    "ios1.to_csv(\"final/o-khan-academy-kids.csv\", index = False)\n",
    "ios2.to_csv(\"final/o-toddler-games-for-2-year-olds.csv\", index = False)\n",
    "ios3.to_csv(\"final/o-montessori-preschool-kids-3-7.csv\", index = False)\n",
    "ios4.to_csv(\"final/o-kids-math-games.csv\", index = False)\n",
    "ios5.to_csv(\"final/o-abc-kids-tracing-phonics.csv\", index = False)\n",
    "ios6.to_csv(\"final/o-pok-pok-montessori-preschool.csv\", index = False)\n",
    "ios7.to_csv(\"final/o-preschool-games-for-kids.csv\", index = False)"
   ]
  },
  {
   "cell_type": "code",
   "execution_count": null,
   "metadata": {},
   "outputs": [],
   "source": []
  }
 ],
 "metadata": {
  "kernelspec": {
   "display_name": "Python 3 (ipykernel)",
   "language": "python",
   "name": "python3"
  },
  "language_info": {
   "codemirror_mode": {
    "name": "ipython",
    "version": 3
   },
   "file_extension": ".py",
   "mimetype": "text/x-python",
   "name": "python",
   "nbconvert_exporter": "python",
   "pygments_lexer": "ipython3",
   "version": "3.9.13"
  }
 },
 "nbformat": 4,
 "nbformat_minor": 2
}
