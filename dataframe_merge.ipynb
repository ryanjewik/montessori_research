{
 "cells": [
  {
   "cell_type": "code",
   "execution_count": 1,
   "id": "1536b8de",
   "metadata": {},
   "outputs": [
    {
     "name": "stderr",
     "output_type": "stream",
     "text": [
      "C:\\Users\\Ryan Jewik\\AppData\\Roaming\\Python\\Python39\\site-packages\\pandas\\core\\computation\\expressions.py:21: UserWarning: Pandas requires version '2.8.4' or newer of 'numexpr' (version '2.8.3' currently installed).\n",
      "  from pandas.core.computation.check import NUMEXPR_INSTALLED\n",
      "C:\\Users\\Ryan Jewik\\AppData\\Roaming\\Python\\Python39\\site-packages\\pandas\\core\\arrays\\masked.py:60: UserWarning: Pandas requires version '1.3.6' or newer of 'bottleneck' (version '1.3.5' currently installed).\n",
      "  from pandas.core import (\n"
     ]
    }
   ],
   "source": [
    "import pandas as pd\n",
    "import numpy as np"
   ]
  },
  {
   "cell_type": "code",
   "execution_count": 2,
   "id": "8be1988a",
   "metadata": {},
   "outputs": [],
   "source": [
    "ios1 = pd.read_csv(\"final/o-khan-academy-kids.csv\")\n",
    "ios2 = pd.read_csv(\"final/o-toddler-games-for-2-year-olds.csv\")\n",
    "ios3 = pd.read_csv(\"final/o-montessori-preschool-kids-3-7.csv\")\n",
    "ios4 = pd.read_csv(\"final/o-kids-math-games.csv\")\n",
    "ios5 = pd.read_csv(\"final/o-abc-kids-tracing-phonics.csv\")\n",
    "ios6 = pd.read_csv(\"final/o-pok-pok-montessori-preschool.csv\")\n",
    "ios7 = pd.read_csv(\"final/o-preschool-games-for-kids.csv\")\n",
    "and1 = pd.read_csv(\"final/g-khan-academy-kids.csv\")\n",
    "and2 = pd.read_csv(\"final/g-toddler-games-for-2-year-olds.csv\")\n",
    "and3 = pd.read_csv(\"final/g-montessori-preschool-kids-3-7.csv\")\n",
    "and4 = pd.read_csv(\"final/g-kids-math-games.csv\")\n",
    "and5 = pd.read_csv(\"final/g-abc-kids-tracing-phonics.csv\")\n",
    "and6 = pd.read_csv(\"final/g-pok-pok-montessori-preschool.csv\")\n",
    "and7 = pd.read_csv(\"final/g-preschool-games-for-kids.csv\")"
   ]
  },
  {
   "cell_type": "code",
   "execution_count": 7,
   "id": "f86e4b49",
   "metadata": {},
   "outputs": [],
   "source": [
    "df = pd.DataFrame()"
   ]
  },
  {
   "cell_type": "code",
   "execution_count": 9,
   "id": "f831e10f",
   "metadata": {},
   "outputs": [],
   "source": [
    "df = pd.concat([ios1, ios2])\n",
    "df = pd.concat([df, ios3])\n",
    "df = pd.concat([df, ios4])\n",
    "df = pd.concat([df, ios5])\n",
    "df = pd.concat([df, ios6])\n",
    "df = pd.concat([df, ios7])\n",
    "df = pd.concat([df, and1])\n",
    "df = pd.concat([df, and2])\n",
    "df = pd.concat([df, and3])\n",
    "df = pd.concat([df, and4])\n",
    "df = pd.concat([df, and5])\n",
    "df = pd.concat([df, and6])\n",
    "df = pd.concat([df, and7])\n"
   ]
  },
  {
   "cell_type": "code",
   "execution_count": 10,
   "id": "9a4089a9",
   "metadata": {},
   "outputs": [
    {
     "data": {
      "text/plain": [
       "Name\n",
       "khan-academy-kids                13444\n",
       "abc-kids-tracing-phonics          8743\n",
       "toddler-games-for-2-year-olds     3269\n",
       "montessori-preschool-kids-3-7     1069\n",
       "pok-pok-montessori-preschool      1027\n",
       "kids-math-games                    533\n",
       "preschool-games-for-kids           452\n",
       "Name: count, dtype: int64"
      ]
     },
     "execution_count": 10,
     "metadata": {},
     "output_type": "execute_result"
    }
   ],
   "source": [
    "df['Name'].value_counts()"
   ]
  },
  {
   "cell_type": "code",
   "execution_count": 13,
   "id": "79bfabd5",
   "metadata": {},
   "outputs": [],
   "source": [
    "df.to_csv(\"final/total_df.csv\", index = False)"
   ]
  },
  {
   "cell_type": "code",
   "execution_count": 15,
   "id": "4f2c0343",
   "metadata": {},
   "outputs": [
    {
     "data": {
      "text/plain": [
       "IOS\n",
       "0    25761\n",
       "1     2776\n",
       "Name: count, dtype: int64"
      ]
     },
     "execution_count": 15,
     "metadata": {},
     "output_type": "execute_result"
    }
   ],
   "source": [
    "df['IOS'].value_counts()"
   ]
  },
  {
   "cell_type": "code",
   "execution_count": null,
   "id": "1a901eb8",
   "metadata": {},
   "outputs": [],
   "source": []
  }
 ],
 "metadata": {
  "kernelspec": {
   "display_name": "Python 3 (ipykernel)",
   "language": "python",
   "name": "python3"
  },
  "language_info": {
   "codemirror_mode": {
    "name": "ipython",
    "version": 3
   },
   "file_extension": ".py",
   "mimetype": "text/x-python",
   "name": "python",
   "nbconvert_exporter": "python",
   "pygments_lexer": "ipython3",
   "version": "3.9.13"
  }
 },
 "nbformat": 4,
 "nbformat_minor": 5
}
