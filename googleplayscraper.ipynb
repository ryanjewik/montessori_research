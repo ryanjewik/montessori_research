{
 "cells": [
  {
   "cell_type": "markdown",
   "id": "3bfd17c5",
   "metadata": {},
   "source": [
    "resources:\n",
    "https://serpapi.com/google-play-product-api\n"
   ]
  },
  {
   "cell_type": "code",
   "execution_count": 1,
   "id": "25476fb6",
   "metadata": {},
   "outputs": [
    {
     "name": "stderr",
     "output_type": "stream",
     "text": [
      "C:\\Users\\Ryan Jewik\\AppData\\Roaming\\Python\\Python39\\site-packages\\pandas\\core\\computation\\expressions.py:21: UserWarning: Pandas requires version '2.8.4' or newer of 'numexpr' (version '2.8.3' currently installed).\n",
      "  from pandas.core.computation.check import NUMEXPR_INSTALLED\n",
      "C:\\Users\\Ryan Jewik\\AppData\\Roaming\\Python\\Python39\\site-packages\\pandas\\core\\arrays\\masked.py:60: UserWarning: Pandas requires version '1.3.6' or newer of 'bottleneck' (version '1.3.5' currently installed).\n",
      "  from pandas.core import (\n"
     ]
    }
   ],
   "source": [
    "from google_play_scraper import app\n",
    "from google_play_scraper import Sort, reviews_all\n",
    "import pandas as pd\n",
    "import numpy as np"
   ]
  },
  {
   "cell_type": "code",
   "execution_count": 6,
   "id": "f1a6a949",
   "metadata": {},
   "outputs": [],
   "source": [
    "import string\n",
    "def string_to_integer(input_str):\n",
    "    # Remove punctuation from the string\n",
    "    cleaned_str = input_str.translate(str.maketrans('', '', string.punctuation))\n",
    "    # Convert the cleaned string to an integer\n",
    "    try:\n",
    "        return int(cleaned_str)\n",
    "    except ValueError:\n",
    "        raise ValueError(\"The input string does not contain a valid integer after removing punctuation.\")\n",
    "\n",
    "import re\n",
    "\n",
    "def clean_filename(filename):\n",
    "    # Define a regex pattern for characters not allowed in filenames\n",
    "    invalid_chars = r'[\\/:*?\"<>|]'\n",
    "    # Replace invalid characters with an underscore\n",
    "    cleaned_filename = re.sub(invalid_chars, '_', filename)\n",
    "    return cleaned_filename"
   ]
  },
  {
   "cell_type": "markdown",
   "id": "257284e7",
   "metadata": {},
   "source": [
    "reviews_all function returns all of reviews from app. If you want to set the count to infinity while using the reviews function, you can use the reviews_all function.\n",
    "\n",
    ":bulb: Because of the Google Play Store limit (up to 200 reviews can be fetched at a time), http requests are generated as long as the number of app reviews is divided by 200. For example, targeting an app like Pokémon GO makes tens of thousands of http requests."
   ]
  },
  {
   "cell_type": "code",
   "execution_count": 2,
   "id": "8a8ecf4a",
   "metadata": {},
   "outputs": [],
   "source": [
    "from google_play_scraper import search\n",
    "\n",
    "#app search\n",
    "result = search(\n",
    "    \"Montessori Apps\",\n",
    "    lang=\"en\",  # defaults to 'en'\n",
    "    country=\"us\",  # defaults to 'us'\n",
    "    n_hits=30  # defaults to 30 (= Google's maximum)\n",
    ")"
   ]
  },
  {
   "cell_type": "code",
   "execution_count": 3,
   "id": "15b00cc9",
   "metadata": {},
   "outputs": [],
   "source": [
    "appIds = []\n",
    "for x in result:\n",
    "    appIds.append(x['appId'])"
   ]
  },
  {
   "cell_type": "code",
   "execution_count": 7,
   "id": "0a878cd5",
   "metadata": {},
   "outputs": [
    {
     "name": "stdout",
     "output_type": "stream",
     "text": [
      "0 ------------------\n",
      "Montessori Preschool, kids 3-7\n",
      "4.4\n",
      "5,000,000+\n",
      "com.edokicademy.montessoriacademy\n",
      "1 ------------------\n",
      "Kids Math: Math Games for Kids\n",
      "4.74\n",
      "5,000,000+\n",
      "com.rvappstudios.montessori.math.games.kids.number.counting\n",
      "2 ------------------\n",
      "Pok Pok | Montessori Preschool\n",
      "3.75\n",
      "10,000+\n",
      "com.playpokpok.pokpok\n",
      "3 ------------------\n",
      "Writing Wizard - Learn Letters\n",
      "3.98\n",
      "5,000,000+\n",
      "com.lescapadou.tracingfree\n",
      "4 ------------------\n",
      "Montessori Preschool Kids 3-7+\n",
      "0\n",
      "500+\n",
      "com.games.lumornis.luvinci\n",
      "5 ------------------\n",
      "Lingokids - Play and Learn\n",
      "4.3326902\n",
      "50,000,000+\n",
      "es.monkimun.lingokids\n"
     ]
    }
   ],
   "source": [
    "#we use this function if we want total reviews period\n",
    "applist = []\n",
    "namelist = []\n",
    "for idx in range(0, len(result)):\n",
    "    if len(applist) == 5:\n",
    "        break;\n",
    "    print(f\"{idx} ------------------\")\n",
    "    print(result[idx]['title'])\n",
    "    print(result[idx]['score'])\n",
    "    print(result[idx]['installs'])\n",
    "    print(result[idx]['appId'])\n",
    "    \n",
    "    if (result[idx]['score'] > 3.0) and (string_to_integer(result[idx]['installs']) > 3000):\n",
    "        applist.append(result[idx]['appId'])\n",
    "        namelist.append(result[idx]['title'])\n",
    "    \n",
    "            "
   ]
  },
  {
   "cell_type": "code",
   "execution_count": 8,
   "id": "063f753e",
   "metadata": {},
   "outputs": [
    {
     "data": {
      "text/plain": [
       "['Montessori Preschool, kids 3-7',\n",
       " 'Kids Math: Math Games for Kids',\n",
       " 'Pok Pok | Montessori Preschool',\n",
       " 'Writing Wizard - Learn Letters',\n",
       " 'Lingokids - Play and Learn']"
      ]
     },
     "execution_count": 8,
     "metadata": {},
     "output_type": "execute_result"
    }
   ],
   "source": [
    "namelist"
   ]
  },
  {
   "cell_type": "code",
   "execution_count": 9,
   "id": "fe372647",
   "metadata": {},
   "outputs": [
    {
     "data": {
      "text/plain": [
       "['com.edokicademy.montessoriacademy',\n",
       " 'com.rvappstudios.montessori.math.games.kids.number.counting',\n",
       " 'com.playpokpok.pokpok',\n",
       " 'com.lescapadou.tracingfree',\n",
       " 'es.monkimun.lingokids']"
      ]
     },
     "execution_count": 9,
     "metadata": {},
     "output_type": "execute_result"
    }
   ],
   "source": [
    "applist"
   ]
  },
  {
   "cell_type": "code",
   "execution_count": 61,
   "id": "37a34724",
   "metadata": {
    "collapsed": true
   },
   "outputs": [
    {
     "name": "stdout",
     "output_type": "stream",
     "text": [
      "0 ------------------\n",
      "Montessori Preschool, kids 3-7\n",
      "4.4\n",
      "5,000,000+\n",
      "com.edokicademy.montessoriacademy\n",
      "953\n",
      "1 ------------------\n",
      "Kids Math: Math Games for Kids\n",
      "4.74\n",
      "5,000,000+\n",
      "com.rvappstudios.montessori.math.games.kids.number.counting\n",
      "520\n",
      "2 ------------------\n",
      "Pok Pok | Montessori Preschool\n",
      "3.75\n",
      "10,000+\n",
      "com.playpokpok.pokpok\n",
      "17\n",
      "3 ------------------\n",
      "Writing Wizard - Learn Letters\n",
      "3.98\n",
      "5,000,000+\n",
      "com.lescapadou.tracingfree\n",
      "1028\n",
      "4 ------------------\n",
      "Montessori Preschool Kids 3-7+\n",
      "0\n",
      "500+\n",
      "com.games.lumornis.luvinci\n",
      "4\n",
      "5 ------------------\n",
      "Lingokids - Play and Learn\n",
      "4.3326902\n",
      "50,000,000+\n",
      "es.monkimun.lingokids\n",
      "14893\n",
      "6 ------------------\n",
      "ABCmouse – Kids Learning Games\n",
      "3.8200364\n",
      "10,000,000+\n",
      "mobi.abcmouse.academy_goo\n",
      "28410\n",
      "7 ------------------\n",
      "HOMER: Fun Learning For Kids\n",
      "4.264095\n",
      "1,000,000+\n",
      "com.learnwithhomer.webapp\n",
      "2779\n",
      "8 ------------------\n",
      "Joy of Reading - learn to read\n",
      "3.2222223\n",
      "10,000+\n",
      "com.edokiacademy.joyofreading\n",
      "5\n",
      "9 ------------------\n",
      "TinyTap: Kids' Learning Games\n",
      "4.671024\n",
      "1,000,000+\n",
      "tinytap.kids.learning.games\n",
      "2758\n",
      "10 ------------------\n",
      "ABC Kids - Tracing & Phonics\n",
      "4.368963\n",
      "50,000,000+\n",
      "com.rvappstudios.abc_kids_toddler_tracing_phonics\n",
      "18029\n",
      "11 ------------------\n",
      "Starfall\n",
      "4.063388\n",
      "5,000,000+\n",
      "air.com.starfall.more\n",
      "6259\n",
      "12 ------------------\n",
      "LeapFrog Academy™ Learning\n",
      "3.5247524\n",
      "500,000+\n",
      "com.leapfrog.academy\n",
      "440\n",
      "13 ------------------\n",
      "Montessori - Learn to Read\n",
      "3.6666667\n",
      "100,000+\n",
      "com.lescapadou.picturespellinglite\n",
      "84\n",
      "14 ------------------\n",
      "Preschool Games For Kids\n",
      "4.1509433\n",
      "1,000,000+\n",
      "com.queleas.preschoolgamesforkids\n",
      "452\n",
      "15 ------------------\n",
      "Pre-k preschool learning games\n",
      "1.8\n",
      "5,000+\n",
      "com.preschoolgames.kids\n",
      "2\n",
      "16 ------------------\n",
      "Spelling & Phonics: Kids Games\n",
      "4.6928105\n",
      "10,000,000+\n",
      "com.rvappstudios.abc.spelling.toddler.spell.phonics\n",
      "4366\n"
     ]
    }
   ],
   "source": [
    "#we use this function if we want reviews retrieved with api\n",
    "applist = []\n",
    "namelist = []\n",
    "for idx in range(0, len(result)):\n",
    "    if len(applist) == 5:\n",
    "        break;\n",
    "    print(f\"{idx} ------------------\")\n",
    "    print(result[idx]['title'])\n",
    "    print(result[idx]['score'])\n",
    "    print(result[idx]['installs'])\n",
    "    print(result[idx]['appId'])\n",
    "    \n",
    "    reviews = reviews_all(\n",
    "        result[idx]['appId'],\n",
    "        sleep_milliseconds=0, # defaults to 0\n",
    "        lang='en', # defaults to 'en'\n",
    "        country='us', # defaults to 'us'\n",
    "        sort=Sort.MOST_RELEVANT, # defaults to Sort.MOST_RELEVANT\n",
    "    )\n",
    "    print(len(reviews))\n",
    "    review_count = len(reviews)\n",
    "    \n",
    "    \n",
    "    if (result[idx]['score'] > 3.0) and ((review_count) > 3000):\n",
    "        applist.append(result[idx]['appId'])\n",
    "        namelist.append(result[idx]['title'])"
   ]
  },
  {
   "cell_type": "code",
   "execution_count": 12,
   "id": "3013a450",
   "metadata": {},
   "outputs": [
    {
     "data": {
      "text/plain": [
       "['Montessori Preschool, kids 3-7',\n",
       " 'Kids Math: Math Games for Kids',\n",
       " 'Pok Pok | Montessori Preschool',\n",
       " 'Writing Wizard - Learn Letters',\n",
       " 'Lingokids - Play and Learn']"
      ]
     },
     "execution_count": 12,
     "metadata": {},
     "output_type": "execute_result"
    }
   ],
   "source": [
    "namelist"
   ]
  },
  {
   "cell_type": "code",
   "execution_count": 13,
   "id": "d61dd156",
   "metadata": {},
   "outputs": [
    {
     "data": {
      "text/plain": [
       "['com.edokicademy.montessoriacademy',\n",
       " 'com.rvappstudios.montessori.math.games.kids.number.counting',\n",
       " 'com.playpokpok.pokpok',\n",
       " 'com.lescapadou.tracingfree',\n",
       " 'es.monkimun.lingokids']"
      ]
     },
     "execution_count": 13,
     "metadata": {},
     "output_type": "execute_result"
    }
   ],
   "source": [
    "applist"
   ]
  },
  {
   "cell_type": "code",
   "execution_count": 15,
   "id": "1c54f565",
   "metadata": {},
   "outputs": [],
   "source": [
    "#adds all the reviews to a dataframe\n",
    "fileNameList = []\n",
    "for idx in range(0, len(applist)):\n",
    "    app_df = pd.DataFrame()\n",
    "    result = reviews_all(\n",
    "        applist[idx],\n",
    "        sleep_milliseconds=0, # defaults to 0\n",
    "        lang='en', # defaults to 'en'\n",
    "        country='us', # defaults to 'us'\n",
    "        sort=Sort.MOST_RELEVANT, # defaults to Sort.MOST_RELEVANT\n",
    "    )\n",
    "    for review in result:\n",
    "        developerResponse = review\n",
    "        date = review['at']\n",
    "        userName = review['userName']\n",
    "        reviewText = review['content']\n",
    "        score = review['score']\n",
    "        #can't get title\n",
    "        #can't get isEdited\n",
    "        review_df = pd.DataFrame({'developerResponse': [developerResponse],  'date': [date], 'review': [reviewText], \n",
    "                                   'score': [score], 'userName': [userName],})\n",
    "        fileName = \"data/googleplayscraper-\" + clean_filename(namelist[idx])\n",
    "        app_df = pd.concat([app_df, review_df], ignore_index = True)\n",
    "    fileNameList.append(fileName)\n",
    "    app_df.to_csv(fileName + \".csv\")\n",
    "    rand200 = app_df.sample(n=100, random_state=101, replace = True)\n",
    "    rand200.to_csv(\"rand200/googleplayscraper-\" + clean_filename(namelist[idx]), index = False)"
   ]
  },
  {
   "cell_type": "markdown",
   "id": "c1adf90e",
   "metadata": {},
   "source": [
    " - date\n",
    " - json response (developerResponse)\n",
    " - review text (review)\n",
    " - rating\n",
    " - isEdited\n",
    " - userName\n",
    " - title"
   ]
  },
  {
   "cell_type": "code",
   "execution_count": 11,
   "id": "d8b349c7",
   "metadata": {},
   "outputs": [
    {
     "data": {
      "text/html": [
       "<div>\n",
       "<style scoped>\n",
       "    .dataframe tbody tr th:only-of-type {\n",
       "        vertical-align: middle;\n",
       "    }\n",
       "\n",
       "    .dataframe tbody tr th {\n",
       "        vertical-align: top;\n",
       "    }\n",
       "\n",
       "    .dataframe thead th {\n",
       "        text-align: right;\n",
       "    }\n",
       "</style>\n",
       "<table border=\"1\" class=\"dataframe\">\n",
       "  <thead>\n",
       "    <tr style=\"text-align: right;\">\n",
       "      <th></th>\n",
       "      <th>developerResponse</th>\n",
       "      <th>date</th>\n",
       "      <th>review</th>\n",
       "      <th>score</th>\n",
       "      <th>userName</th>\n",
       "    </tr>\n",
       "  </thead>\n",
       "  <tbody>\n",
       "    <tr>\n",
       "      <th>0</th>\n",
       "      <td>{'reviewId': '248960be-c797-4ce5-a1de-d812f9d0...</td>\n",
       "      <td>2020-07-01 09:07:17</td>\n",
       "      <td>My kiddo loves this app and I really like the ...</td>\n",
       "      <td>4</td>\n",
       "      <td>A Google user</td>\n",
       "    </tr>\n",
       "    <tr>\n",
       "      <th>1</th>\n",
       "      <td>{'reviewId': 'da967c3d-3f0b-4957-bc3a-ddea0678...</td>\n",
       "      <td>2021-08-17 10:52:29</td>\n",
       "      <td>Poor user interface, navigation was nonsensica...</td>\n",
       "      <td>2</td>\n",
       "      <td>A Google user</td>\n",
       "    </tr>\n",
       "    <tr>\n",
       "      <th>2</th>\n",
       "      <td>{'reviewId': '229cf8ce-5cfe-41ac-8f1a-3d873c59...</td>\n",
       "      <td>2023-11-07 07:59:14</td>\n",
       "      <td>Bought a one year subscription. My daughter lo...</td>\n",
       "      <td>5</td>\n",
       "      <td>A Google user</td>\n",
       "    </tr>\n",
       "    <tr>\n",
       "      <th>3</th>\n",
       "      <td>{'reviewId': 'b1cdbc4a-eb1b-48ad-87a6-ab4fd475...</td>\n",
       "      <td>2019-11-23 15:58:31</td>\n",
       "      <td>I really love this app, its very engaging my 2...</td>\n",
       "      <td>5</td>\n",
       "      <td>A Google user</td>\n",
       "    </tr>\n",
       "    <tr>\n",
       "      <th>4</th>\n",
       "      <td>{'reviewId': '3b0a94a3-f4f7-427c-b69f-3ed05bac...</td>\n",
       "      <td>2023-08-17 13:12:33</td>\n",
       "      <td>This is the most difficult app to navigate as ...</td>\n",
       "      <td>3</td>\n",
       "      <td>A Google user</td>\n",
       "    </tr>\n",
       "    <tr>\n",
       "      <th>...</th>\n",
       "      <td>...</td>\n",
       "      <td>...</td>\n",
       "      <td>...</td>\n",
       "      <td>...</td>\n",
       "      <td>...</td>\n",
       "    </tr>\n",
       "    <tr>\n",
       "      <th>14888</th>\n",
       "      <td>{'reviewId': 'fbc8ca12-bed3-416a-888a-025770d4...</td>\n",
       "      <td>2020-05-21 01:16:28</td>\n",
       "      <td>👎</td>\n",
       "      <td>1</td>\n",
       "      <td>NITESH JANGRA</td>\n",
       "    </tr>\n",
       "    <tr>\n",
       "      <th>14889</th>\n",
       "      <td>{'reviewId': '336120bd-6d59-4b53-b273-f514281f...</td>\n",
       "      <td>2020-11-21 11:38:21</td>\n",
       "      <td>🖕</td>\n",
       "      <td>1</td>\n",
       "      <td>حسین حیدری</td>\n",
       "    </tr>\n",
       "    <tr>\n",
       "      <th>14890</th>\n",
       "      <td>{'reviewId': '03f26b1c-083f-4a0a-ae19-a0db7c80...</td>\n",
       "      <td>2020-11-25 23:37:48</td>\n",
       "      <td>👍</td>\n",
       "      <td>1</td>\n",
       "      <td>Wahida Abdul Wahab</td>\n",
       "    </tr>\n",
       "    <tr>\n",
       "      <th>14891</th>\n",
       "      <td>{'reviewId': '0ce7e0f9-9041-4e3b-a85d-23a309fb...</td>\n",
       "      <td>2018-11-08 09:31:12</td>\n",
       "      <td>Bla.... Bla.... Bla....</td>\n",
       "      <td>5</td>\n",
       "      <td>A Google user</td>\n",
       "    </tr>\n",
       "    <tr>\n",
       "      <th>14892</th>\n",
       "      <td>{'reviewId': 'ec8ebf06-5b5c-47f5-be69-5356bd5d...</td>\n",
       "      <td>2024-01-20 04:03:53</td>\n",
       "      <td>None</td>\n",
       "      <td>4</td>\n",
       "      <td>Shalom Diaz</td>\n",
       "    </tr>\n",
       "  </tbody>\n",
       "</table>\n",
       "<p>14893 rows × 5 columns</p>\n",
       "</div>"
      ],
      "text/plain": [
       "                                       developerResponse                date  \\\n",
       "0      {'reviewId': '248960be-c797-4ce5-a1de-d812f9d0... 2020-07-01 09:07:17   \n",
       "1      {'reviewId': 'da967c3d-3f0b-4957-bc3a-ddea0678... 2021-08-17 10:52:29   \n",
       "2      {'reviewId': '229cf8ce-5cfe-41ac-8f1a-3d873c59... 2023-11-07 07:59:14   \n",
       "3      {'reviewId': 'b1cdbc4a-eb1b-48ad-87a6-ab4fd475... 2019-11-23 15:58:31   \n",
       "4      {'reviewId': '3b0a94a3-f4f7-427c-b69f-3ed05bac... 2023-08-17 13:12:33   \n",
       "...                                                  ...                 ...   \n",
       "14888  {'reviewId': 'fbc8ca12-bed3-416a-888a-025770d4... 2020-05-21 01:16:28   \n",
       "14889  {'reviewId': '336120bd-6d59-4b53-b273-f514281f... 2020-11-21 11:38:21   \n",
       "14890  {'reviewId': '03f26b1c-083f-4a0a-ae19-a0db7c80... 2020-11-25 23:37:48   \n",
       "14891  {'reviewId': '0ce7e0f9-9041-4e3b-a85d-23a309fb... 2018-11-08 09:31:12   \n",
       "14892  {'reviewId': 'ec8ebf06-5b5c-47f5-be69-5356bd5d... 2024-01-20 04:03:53   \n",
       "\n",
       "                                                  review  score  \\\n",
       "0      My kiddo loves this app and I really like the ...      4   \n",
       "1      Poor user interface, navigation was nonsensica...      2   \n",
       "2      Bought a one year subscription. My daughter lo...      5   \n",
       "3      I really love this app, its very engaging my 2...      5   \n",
       "4      This is the most difficult app to navigate as ...      3   \n",
       "...                                                  ...    ...   \n",
       "14888                                                  👎      1   \n",
       "14889                                                  🖕      1   \n",
       "14890                                                  👍      1   \n",
       "14891                            Bla.... Bla.... Bla....      5   \n",
       "14892                                               None      4   \n",
       "\n",
       "                 userName  \n",
       "0           A Google user  \n",
       "1           A Google user  \n",
       "2           A Google user  \n",
       "3           A Google user  \n",
       "4           A Google user  \n",
       "...                   ...  \n",
       "14888       NITESH JANGRA  \n",
       "14889          حسین حیدری  \n",
       "14890  Wahida Abdul Wahab  \n",
       "14891       A Google user  \n",
       "14892         Shalom Diaz  \n",
       "\n",
       "[14893 rows x 5 columns]"
      ]
     },
     "execution_count": 11,
     "metadata": {},
     "output_type": "execute_result"
    }
   ],
   "source": [
    "app_df"
   ]
  }
 ],
 "metadata": {
  "kernelspec": {
   "display_name": "Python 3 (ipykernel)",
   "language": "python",
   "name": "python3"
  },
  "language_info": {
   "codemirror_mode": {
    "name": "ipython",
    "version": 3
   },
   "file_extension": ".py",
   "mimetype": "text/x-python",
   "name": "python",
   "nbconvert_exporter": "python",
   "pygments_lexer": "ipython3",
   "version": "3.9.13"
  }
 },
 "nbformat": 4,
 "nbformat_minor": 5
}
